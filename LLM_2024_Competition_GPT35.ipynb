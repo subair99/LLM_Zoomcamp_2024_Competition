{
 "cells": [
  {
   "cell_type": "markdown",
   "id": "27536a7b-1897-4c32-832b-2edeac6e171d",
   "metadata": {},
   "source": [
    "# LLM Zoomcamp 2024 Competition\n",
    "This competition requires the use of LLMs to solve high school mathematics problems. The task is to develop models that can accurately solve the problems and then the predictions submitted."
   ]
  },
  {
   "cell_type": "code",
   "execution_count": 13,
   "id": "97285ea6-6fec-489c-923a-52e371b26f34",
   "metadata": {},
   "outputs": [],
   "source": [
    "# Import required modules.\n",
    "import numpy as np\n",
    "import pandas as pd\n",
    "from dotenv import load_dotenv\n",
    "import os\n",
    "from langchain_openai import OpenAI\n",
    "from langchain.prompts import PromptTemplate\n",
    "import re\n",
    "from tqdm.auto import tqdm\n",
    "from concurrent.futures import ThreadPoolExecutor\n",
    "from scorer import score"
   ]
  },
  {
   "cell_type": "code",
   "execution_count": 3,
   "id": "f22986f5-404b-4fc9-84e9-ac7899dc80bf",
   "metadata": {},
   "outputs": [
    {
     "data": {
      "text/plain": [
       "True"
      ]
     },
     "execution_count": 3,
     "metadata": {},
     "output_type": "execute_result"
    }
   ],
   "source": [
    "# Set up OpenAI API key.\n",
    "load_dotenv()"
   ]
  },
  {
   "cell_type": "code",
   "execution_count": 4,
   "id": "d6421b5c-d291-4611-aad5-d2a605ff646d",
   "metadata": {},
   "outputs": [],
   "source": [
    "# Application Design.\n",
    "llm = OpenAI(model_name=\"gpt-3.5-turbo-instruct\", temperature=0, max_tokens=1500)"
   ]
  },
  {
   "cell_type": "code",
   "execution_count": 5,
   "id": "2c606e79-4dec-4fbc-a03a-d8091399a4a5",
   "metadata": {},
   "outputs": [],
   "source": [
    "def get_answer(question):\n",
    "    prompt = f\"\"\"Please solve the following high school math problem step by step. Explain your reasoning clearly and provide the final answer.\n",
    "\n",
    "{question}\n",
    "\n",
    "Step-by-step solution and final answer:\"\"\"\n",
    "\n",
    "    response = llm.invoke(prompt)\n",
    "    return response.strip()"
   ]
  },
  {
   "cell_type": "code",
   "execution_count": 6,
   "id": "7541d392-0959-4931-be9f-8d86e06f51a4",
   "metadata": {},
   "outputs": [],
   "source": [
    "# Function to Extract Answer.\n",
    "def extract_numerical_answer(text):\n",
    "    # Look for patterns like \"Final answer: X\" or \"The answer is X\" at the end of the text\n",
    "    match = re.search(r'(?:final answer|the answer is)[:\\s]*([+-]?\\d*\\.?\\d+)', text, re.IGNORECASE)\n",
    "    if match:\n",
    "        return float(match.group(1))\n",
    "    else:\n",
    "        # If no clear final answer, look for the last number in the text\n",
    "        numbers = re.findall(r'[+-]?\\d*\\.?\\d+', text)\n",
    "        return float(numbers[-1]) if numbers else None"
   ]
  },
  {
   "cell_type": "code",
   "execution_count": 7,
   "id": "7904cda5-9272-4f82-8e44-dafbeb767baa",
   "metadata": {},
   "outputs": [],
   "source": [
    "# Function to Prepare Dataset and Get Answers.\n",
    "pool = ThreadPoolExecutor(max_workers=6)\n",
    "\n",
    "def map_progress(pool, seq, f):\n",
    "    results = []\n",
    "\n",
    "    with tqdm(total=len(seq)) as progress:\n",
    "        futures = []\n",
    "\n",
    "        for el in seq:\n",
    "            future = pool.submit(f, el)\n",
    "            future.add_done_callback(lambda p: progress.update())\n",
    "            futures.append(future)\n",
    "\n",
    "        for future in futures:\n",
    "            result = future.result()\n",
    "            results.append(result)\n",
    "\n",
    "    return results"
   ]
  },
  {
   "cell_type": "code",
   "execution_count": 8,
   "id": "35ebb590-26e4-47ec-8c05-d53090cf4287",
   "metadata": {},
   "outputs": [],
   "source": [
    "# create a function for processing each row.\n",
    "def process_row(row):\n",
    "    problem_id = row['problem_id']\n",
    "    problem_text = row['problem_text']\n",
    "\n",
    "    llm_reasoning = get_answer(problem_text)\n",
    "\n",
    "    numerical_answer = extract_numerical_answer(llm_reasoning)\n",
    "\n",
    "    return {\n",
    "        'problem_id': problem_id,\n",
    "        'problem_text': problem_text,\n",
    "        'llm_reasoning': llm_reasoning,\n",
    "        'answer': numerical_answer\n",
    "    }"
   ]
  },
  {
   "cell_type": "code",
   "execution_count": 9,
   "id": "4371b400-4292-43e7-8748-06c11deb93a1",
   "metadata": {},
   "outputs": [
    {
     "data": {
      "text/html": [
       "<div>\n",
       "<style scoped>\n",
       "    .dataframe tbody tr th:only-of-type {\n",
       "        vertical-align: middle;\n",
       "    }\n",
       "\n",
       "    .dataframe tbody tr th {\n",
       "        vertical-align: top;\n",
       "    }\n",
       "\n",
       "    .dataframe thead th {\n",
       "        text-align: right;\n",
       "    }\n",
       "</style>\n",
       "<table border=\"1\" class=\"dataframe\">\n",
       "  <thead>\n",
       "    <tr style=\"text-align: right;\">\n",
       "      <th></th>\n",
       "      <th>problem_id</th>\n",
       "      <th>problem_text</th>\n",
       "      <th>answer</th>\n",
       "    </tr>\n",
       "  </thead>\n",
       "  <tbody>\n",
       "    <tr>\n",
       "      <th>0</th>\n",
       "      <td>2374</td>\n",
       "      <td>Find the value of the expression $\\dfrac{17}{5...</td>\n",
       "      <td>1.6</td>\n",
       "    </tr>\n",
       "    <tr>\n",
       "      <th>1</th>\n",
       "      <td>4723</td>\n",
       "      <td>In a company of 30 people, 25 use the social n...</td>\n",
       "      <td>24</td>\n",
       "    </tr>\n",
       "    <tr>\n",
       "      <th>2</th>\n",
       "      <td>7135</td>\n",
       "      <td>The number of road traffic accidents (RTAs) in...</td>\n",
       "      <td>32</td>\n",
       "    </tr>\n",
       "    <tr>\n",
       "      <th>3</th>\n",
       "      <td>5814</td>\n",
       "      <td>Find the value of the expression $\\dfrac{2\\str...</td>\n",
       "      <td>256</td>\n",
       "    </tr>\n",
       "    <tr>\n",
       "      <th>4</th>\n",
       "      <td>9237</td>\n",
       "      <td>A traveler from Moscow wants to visit four cit...</td>\n",
       "      <td>53</td>\n",
       "    </tr>\n",
       "  </tbody>\n",
       "</table>\n",
       "</div>"
      ],
      "text/plain": [
       "   problem_id                                       problem_text answer\n",
       "0        2374  Find the value of the expression $\\dfrac{17}{5...    1.6\n",
       "1        4723  In a company of 30 people, 25 use the social n...     24\n",
       "2        7135  The number of road traffic accidents (RTAs) in...     32\n",
       "3        5814  Find the value of the expression $\\dfrac{2\\str...    256\n",
       "4        9237  A traveler from Moscow wants to visit four cit...     53"
      ]
     },
     "execution_count": 9,
     "metadata": {},
     "output_type": "execute_result"
    }
   ],
   "source": [
    "# Load the train data.\n",
    "df_train = pd.read_csv('data/train.csv')\n",
    "df_train.head()"
   ]
  },
  {
   "cell_type": "code",
   "execution_count": 10,
   "id": "18067d4b-e74d-4466-80b8-2f9b46ba54f6",
   "metadata": {},
   "outputs": [
    {
     "data": {
      "text/plain": [
       "{'problem_id': 2374,\n",
       " 'problem_text': 'Find the value of the expression $\\\\dfrac{17}{5} :\\\\dfrac{34}{3} +1.3$.',\n",
       " 'llm_reasoning': 'To solve this problem, we will first simplify the expression $\\\\dfrac{17}{5} :\\\\dfrac{34}{3}$.\\n\\nTo divide fractions, we need to invert the second fraction and multiply. This can be written as:\\n\\n$\\\\dfrac{17}{5} :\\\\dfrac{34}{3} = \\\\dfrac{17}{5} \\\\times \\\\dfrac{3}{34}$\\n\\nNext, we can simplify the fractions by canceling out any common factors. In this case, we can divide both the numerator and denominator of the first fraction by 17, and the second fraction by 2. This gives us:\\n\\n$\\\\dfrac{1}{5} \\\\times \\\\dfrac{3}{17} = \\\\dfrac{3}{85}$\\n\\nNow, we can substitute this simplified fraction back into the original expression:\\n\\n$\\\\dfrac{17}{5} :\\\\dfrac{34}{3} +1.3 = \\\\dfrac{3}{85} + 1.3$\\n\\nTo add fractions, we need to have a common denominator. In this case, we can multiply the first fraction by $\\\\dfrac{17}{17}$ to get a common denominator of 85. This gives us:\\n\\n$\\\\dfrac{3}{85} + 1.3 = \\\\dfrac{3}{85} + \\\\dfrac{85}{85} \\\\times 1.3 = \\\\dfrac{3}{85} + \\\\dfrac{110.5}{85}$\\n\\nNow, we can add the fractions together:\\n\\n$\\\\dfrac{3}{85} + \\\\dfrac{110.5}{85} = \\\\dfrac{113.5}{85}$\\n\\nFinally, we can simplify the fraction by dividing both the numerator and denominator by 5:\\n\\n$\\\\dfrac{113.5}{85} = \\\\dfrac{22.7}{17}$\\n\\nTherefore, the final answer is $\\\\dfrac{22.7}{17}$.',\n",
       " 'answer': 17.0}"
      ]
     },
     "execution_count": 10,
     "metadata": {},
     "output_type": "execute_result"
    }
   ],
   "source": [
    "# Process row.\n",
    "rows = df_train.head().to_dict(orient='records')\n",
    "process_row(rows[0])"
   ]
  },
  {
   "cell_type": "code",
   "execution_count": 11,
   "id": "1e5ebb23-942d-44ee-bc64-2a339e7c15dc",
   "metadata": {},
   "outputs": [
    {
     "name": "stderr",
     "output_type": "stream",
     "text": [
      "100%|█████████████████████████████████████████████████████████████████████████████████████████████| 5/5 [00:05<00:00,  1.15s/it]\n"
     ]
    },
    {
     "data": {
      "text/html": [
       "<div>\n",
       "<style scoped>\n",
       "    .dataframe tbody tr th:only-of-type {\n",
       "        vertical-align: middle;\n",
       "    }\n",
       "\n",
       "    .dataframe tbody tr th {\n",
       "        vertical-align: top;\n",
       "    }\n",
       "\n",
       "    .dataframe thead th {\n",
       "        text-align: right;\n",
       "    }\n",
       "</style>\n",
       "<table border=\"1\" class=\"dataframe\">\n",
       "  <thead>\n",
       "    <tr style=\"text-align: right;\">\n",
       "      <th></th>\n",
       "      <th>problem_id</th>\n",
       "      <th>problem_text</th>\n",
       "      <th>llm_reasoning</th>\n",
       "      <th>answer</th>\n",
       "    </tr>\n",
       "  </thead>\n",
       "  <tbody>\n",
       "    <tr>\n",
       "      <th>0</th>\n",
       "      <td>2374</td>\n",
       "      <td>Find the value of the expression $\\dfrac{17}{5...</td>\n",
       "      <td>To solve this problem, we will first simplify ...</td>\n",
       "      <td>17.0</td>\n",
       "    </tr>\n",
       "    <tr>\n",
       "      <th>1</th>\n",
       "      <td>4723</td>\n",
       "      <td>In a company of 30 people, 25 use the social n...</td>\n",
       "      <td>1) In this company, there will be 10 people wh...</td>\n",
       "      <td>24.0</td>\n",
       "    </tr>\n",
       "    <tr>\n",
       "      <th>2</th>\n",
       "      <td>7135</td>\n",
       "      <td>The number of road traffic accidents (RTAs) in...</td>\n",
       "      <td>Step 1: Let x be the number of RTAs in the win...</td>\n",
       "      <td>32.0</td>\n",
       "    </tr>\n",
       "    <tr>\n",
       "      <th>3</th>\n",
       "      <td>5814</td>\n",
       "      <td>Find the value of the expression $\\dfrac{2\\str...</td>\n",
       "      <td>To solve this problem, we will use the propert...</td>\n",
       "      <td>256.0</td>\n",
       "    </tr>\n",
       "    <tr>\n",
       "      <th>4</th>\n",
       "      <td>9237</td>\n",
       "      <td>A traveler from Moscow wants to visit four cit...</td>\n",
       "      <td>To visit all four cities and spend less than 5...</td>\n",
       "      <td>46.0</td>\n",
       "    </tr>\n",
       "  </tbody>\n",
       "</table>\n",
       "</div>"
      ],
      "text/plain": [
       "   problem_id                                       problem_text  \\\n",
       "0        2374  Find the value of the expression $\\dfrac{17}{5...   \n",
       "1        4723  In a company of 30 people, 25 use the social n...   \n",
       "2        7135  The number of road traffic accidents (RTAs) in...   \n",
       "3        5814  Find the value of the expression $\\dfrac{2\\str...   \n",
       "4        9237  A traveler from Moscow wants to visit four cit...   \n",
       "\n",
       "                                       llm_reasoning  answer  \n",
       "0  To solve this problem, we will first simplify ...    17.0  \n",
       "1  1) In this company, there will be 10 people wh...    24.0  \n",
       "2  Step 1: Let x be the number of RTAs in the win...    32.0  \n",
       "3  To solve this problem, we will use the propert...   256.0  \n",
       "4  To visit all four cities and spend less than 5...    46.0  "
      ]
     },
     "execution_count": 11,
     "metadata": {},
     "output_type": "execute_result"
    },
    {
     "name": "stderr",
     "output_type": "stream",
     "text": [
      "100%|█████████████████████████████████████████████████████████████████████████████████████████| 100/100 [01:03<00:00,  1.19s/it]"
     ]
    }
   ],
   "source": [
    "# Get df_results.\n",
    "results = map_progress(pool, rows, process_row)\n",
    "df_results = pd.DataFrame(results)\n",
    "df_results"
   ]
  },
  {
   "cell_type": "code",
   "execution_count": 12,
   "id": "afaae6ba-dbc3-4cd9-abff-563d22dfef52",
   "metadata": {},
   "outputs": [
    {
     "data": {
      "text/html": [
       "<div>\n",
       "<style scoped>\n",
       "    .dataframe tbody tr th:only-of-type {\n",
       "        vertical-align: middle;\n",
       "    }\n",
       "\n",
       "    .dataframe tbody tr th {\n",
       "        vertical-align: top;\n",
       "    }\n",
       "\n",
       "    .dataframe thead th {\n",
       "        text-align: right;\n",
       "    }\n",
       "</style>\n",
       "<table border=\"1\" class=\"dataframe\">\n",
       "  <thead>\n",
       "    <tr style=\"text-align: right;\">\n",
       "      <th></th>\n",
       "      <th>problem_id</th>\n",
       "      <th>problem_text</th>\n",
       "      <th>answer</th>\n",
       "    </tr>\n",
       "  </thead>\n",
       "  <tbody>\n",
       "    <tr>\n",
       "      <th>0</th>\n",
       "      <td>2374</td>\n",
       "      <td>Find the value of the expression $\\dfrac{17}{5...</td>\n",
       "      <td>1.6</td>\n",
       "    </tr>\n",
       "    <tr>\n",
       "      <th>1</th>\n",
       "      <td>4723</td>\n",
       "      <td>In a company of 30 people, 25 use the social n...</td>\n",
       "      <td>24</td>\n",
       "    </tr>\n",
       "    <tr>\n",
       "      <th>2</th>\n",
       "      <td>7135</td>\n",
       "      <td>The number of road traffic accidents (RTAs) in...</td>\n",
       "      <td>32</td>\n",
       "    </tr>\n",
       "    <tr>\n",
       "      <th>3</th>\n",
       "      <td>5814</td>\n",
       "      <td>Find the value of the expression $\\dfrac{2\\str...</td>\n",
       "      <td>256</td>\n",
       "    </tr>\n",
       "    <tr>\n",
       "      <th>4</th>\n",
       "      <td>9237</td>\n",
       "      <td>A traveler from Moscow wants to visit four cit...</td>\n",
       "      <td>53</td>\n",
       "    </tr>\n",
       "  </tbody>\n",
       "</table>\n",
       "</div>"
      ],
      "text/plain": [
       "   problem_id                                       problem_text answer\n",
       "0        2374  Find the value of the expression $\\dfrac{17}{5...    1.6\n",
       "1        4723  In a company of 30 people, 25 use the social n...     24\n",
       "2        7135  The number of road traffic accidents (RTAs) in...     32\n",
       "3        5814  Find the value of the expression $\\dfrac{2\\str...    256\n",
       "4        9237  A traveler from Moscow wants to visit four cit...     53"
      ]
     },
     "execution_count": 12,
     "metadata": {},
     "output_type": "execute_result"
    }
   ],
   "source": [
    "# Show the head of train.\n",
    "df_train.head()"
   ]
  },
  {
   "cell_type": "code",
   "execution_count": 14,
   "id": "88fa0b04-b735-4798-a013-6e41b23eeec6",
   "metadata": {},
   "outputs": [
    {
     "data": {
      "text/plain": [
       "0.6"
      ]
     },
     "execution_count": 14,
     "metadata": {},
     "output_type": "execute_result"
    }
   ],
   "source": [
    "# Score the run.\n",
    "score(df_train.head(), df_results, 'problem_id')"
   ]
  },
  {
   "cell_type": "code",
   "execution_count": 15,
   "id": "de66339c-3055-434e-99d0-a628643c5ce8",
   "metadata": {},
   "outputs": [],
   "source": [
    "# Put all together in a function.\n",
    "def prepare_prompts_and_get_answers(df):\n",
    "    rows = df.to_dict(orient='records')\n",
    "    results = map_progress(pool, rows, process_row)\n",
    "    return pd.DataFrame(results)"
   ]
  },
  {
   "cell_type": "code",
   "execution_count": 16,
   "id": "687eae25-32bd-4dff-9cef-8d1116087d2d",
   "metadata": {},
   "outputs": [
    {
     "name": "stderr",
     "output_type": "stream",
     "text": [
      "100%|█████████████████████████████████████████████████████████████████████████████████████████| 100/100 [01:03<00:00,  1.57it/s]\n"
     ]
    },
    {
     "data": {
      "text/html": [
       "<div>\n",
       "<style scoped>\n",
       "    .dataframe tbody tr th:only-of-type {\n",
       "        vertical-align: middle;\n",
       "    }\n",
       "\n",
       "    .dataframe tbody tr th {\n",
       "        vertical-align: top;\n",
       "    }\n",
       "\n",
       "    .dataframe thead th {\n",
       "        text-align: right;\n",
       "    }\n",
       "</style>\n",
       "<table border=\"1\" class=\"dataframe\">\n",
       "  <thead>\n",
       "    <tr style=\"text-align: right;\">\n",
       "      <th></th>\n",
       "      <th>problem_id</th>\n",
       "      <th>problem_text</th>\n",
       "      <th>llm_reasoning</th>\n",
       "      <th>answer</th>\n",
       "    </tr>\n",
       "  </thead>\n",
       "  <tbody>\n",
       "    <tr>\n",
       "      <th>0</th>\n",
       "      <td>2374</td>\n",
       "      <td>Find the value of the expression $\\dfrac{17}{5...</td>\n",
       "      <td>To solve this problem, we will first simplify ...</td>\n",
       "      <td>17.0</td>\n",
       "    </tr>\n",
       "    <tr>\n",
       "      <th>1</th>\n",
       "      <td>4723</td>\n",
       "      <td>In a company of 30 people, 25 use the social n...</td>\n",
       "      <td>1) In this company, there will be 10 people wh...</td>\n",
       "      <td>24.0</td>\n",
       "    </tr>\n",
       "    <tr>\n",
       "      <th>2</th>\n",
       "      <td>7135</td>\n",
       "      <td>The number of road traffic accidents (RTAs) in...</td>\n",
       "      <td>Step 1: Let x be the number of RTAs in the win...</td>\n",
       "      <td>32.0</td>\n",
       "    </tr>\n",
       "    <tr>\n",
       "      <th>3</th>\n",
       "      <td>5814</td>\n",
       "      <td>Find the value of the expression $\\dfrac{2\\str...</td>\n",
       "      <td>To solve this problem, we will use the propert...</td>\n",
       "      <td>256.0</td>\n",
       "    </tr>\n",
       "    <tr>\n",
       "      <th>4</th>\n",
       "      <td>9237</td>\n",
       "      <td>A traveler from Moscow wants to visit four cit...</td>\n",
       "      <td>To visit all four cities and spend less than 5...</td>\n",
       "      <td>46.0</td>\n",
       "    </tr>\n",
       "  </tbody>\n",
       "</table>\n",
       "</div>"
      ],
      "text/plain": [
       "   problem_id                                       problem_text  \\\n",
       "0        2374  Find the value of the expression $\\dfrac{17}{5...   \n",
       "1        4723  In a company of 30 people, 25 use the social n...   \n",
       "2        7135  The number of road traffic accidents (RTAs) in...   \n",
       "3        5814  Find the value of the expression $\\dfrac{2\\str...   \n",
       "4        9237  A traveler from Moscow wants to visit four cit...   \n",
       "\n",
       "                                       llm_reasoning  answer  \n",
       "0  To solve this problem, we will first simplify ...    17.0  \n",
       "1  1) In this company, there will be 10 people wh...    24.0  \n",
       "2  Step 1: Let x be the number of RTAs in the win...    32.0  \n",
       "3  To solve this problem, we will use the propert...   256.0  \n",
       "4  To visit all four cities and spend less than 5...    46.0  "
      ]
     },
     "execution_count": 16,
     "metadata": {},
     "output_type": "execute_result"
    },
    {
     "name": "stderr",
     "output_type": "stream",
     "text": [
      " 97%|███████████████████████████████████████████████████████████████████████████████████████▎  | 97/100 [00:59<00:02,  1.42it/s]"
     ]
    }
   ],
   "source": [
    "# Return the results head.\n",
    "df_train_results = prepare_prompts_and_get_answers(df_train)\n",
    "df_train_results.head()"
   ]
  },
  {
   "cell_type": "code",
   "execution_count": 17,
   "id": "157a2a56-45b8-471a-80a5-458a9de1615e",
   "metadata": {},
   "outputs": [
    {
     "data": {
      "text/plain": [
       "0.39"
      ]
     },
     "execution_count": 17,
     "metadata": {},
     "output_type": "execute_result"
    }
   ],
   "source": [
    "# Get the total score.\n",
    "score(df_train, df_train_results, 'problem_id')"
   ]
  },
  {
   "cell_type": "code",
   "execution_count": 18,
   "id": "03752f03-0bfe-41d3-8736-5d7df682350a",
   "metadata": {},
   "outputs": [
    {
     "name": "stderr",
     "output_type": "stream",
     "text": [
      "100%|█████████████████████████████████████████████████████████████████████████████████████████| 100/100 [01:03<00:00,  1.58it/s]\n"
     ]
    }
   ],
   "source": [
    "# Prepare the test submission.\n",
    "df_test = pd.read_csv('data/test.csv')\n",
    "\n",
    "df_test_results = prepare_prompts_and_get_answers(df_test)\n",
    "\n",
    "submission = df_test_results[['problem_id', 'answer']]\n",
    "submission.to_csv('starter_notebook_submission.csv', index=False)"
   ]
  },
  {
   "cell_type": "code",
   "execution_count": null,
   "id": "5baa34c8-cbfc-48bc-8997-48bbd4f5c953",
   "metadata": {},
   "outputs": [],
   "source": []
  }
 ],
 "metadata": {
  "kernelspec": {
   "display_name": "Python 3 (ipykernel)",
   "language": "python",
   "name": "python3"
  },
  "language_info": {
   "codemirror_mode": {
    "name": "ipython",
    "version": 3
   },
   "file_extension": ".py",
   "mimetype": "text/x-python",
   "name": "python",
   "nbconvert_exporter": "python",
   "pygments_lexer": "ipython3",
   "version": "3.10.14"
  }
 },
 "nbformat": 4,
 "nbformat_minor": 5
}
