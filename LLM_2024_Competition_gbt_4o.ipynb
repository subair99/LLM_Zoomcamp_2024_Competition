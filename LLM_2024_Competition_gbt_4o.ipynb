{
 "cells": [
  {
   "cell_type": "markdown",
   "id": "27536a7b-1897-4c32-832b-2edeac6e171d",
   "metadata": {},
   "source": [
    "# LLM Zoomcamp 2024 Competition\n",
    "This competition requires the use of LLMs to solve high school mathematics problems. The task is to develop models that can accurately solve the problems and then the predictions submitted."
   ]
  },
  {
   "cell_type": "code",
   "execution_count": 1,
   "id": "97285ea6-6fec-489c-923a-52e371b26f34",
   "metadata": {},
   "outputs": [],
   "source": [
    "# Import Open AI model.\n",
    "from langchain_openai import ChatOpenAI"
   ]
  },
  {
   "cell_type": "code",
   "execution_count": 2,
   "id": "82f2a78b-590f-4b52-a86a-724b70602577",
   "metadata": {},
   "outputs": [
    {
     "name": "stderr",
     "output_type": "stream",
     "text": [
      "/home/codespace/miniconda3/lib/python3.10/site-packages/tqdm/auto.py:21: TqdmWarning: IProgress not found. Please update jupyter and ipywidgets. See https://ipywidgets.readthedocs.io/en/stable/user_install.html\n",
      "  from .autonotebook import tqdm as notebook_tqdm\n"
     ]
    }
   ],
   "source": [
    "# Import required modules.\n",
    "import numpy as np\n",
    "import pandas as pd\n",
    "import getpass\n",
    "import os\n",
    "from langchain_core.prompts import ChatPromptTemplate\n",
    "import re\n",
    "from tqdm.auto import tqdm\n",
    "from concurrent.futures import ThreadPoolExecutor\n",
    "from langchain_core.messages import HumanMessage, SystemMessage\n",
    "from langchain_core.output_parsers import StrOutputParser\n",
    "from dotenv import load_dotenv\n",
    "from scorer import score"
   ]
  },
  {
   "cell_type": "code",
   "execution_count": 3,
   "id": "f22986f5-404b-4fc9-84e9-ac7899dc80bf",
   "metadata": {},
   "outputs": [
    {
     "data": {
      "text/plain": [
       "True"
      ]
     },
     "execution_count": 3,
     "metadata": {},
     "output_type": "execute_result"
    }
   ],
   "source": [
    "# Set up OpenAI API key.\n",
    "load_dotenv()"
   ]
  },
  {
   "cell_type": "code",
   "execution_count": 4,
   "id": "5baa34c8-cbfc-48bc-8997-48bbd4f5c953",
   "metadata": {},
   "outputs": [],
   "source": [
    "# Define the application.\n",
    "llm = ChatOpenAI(model=\"gpt-4o\", temperature=0, max_tokens=1500)"
   ]
  },
  {
   "cell_type": "code",
   "execution_count": 5,
   "id": "c3c600d2-e056-4465-8da2-3e3e0a3fe92e",
   "metadata": {},
   "outputs": [],
   "source": [
    "# Function to query the LLM.\n",
    "def get_answer(question):\n",
    "    messages = [\n",
    "        SystemMessage(content=\"You are a mathematics genius, solve the expression and return answer in float or integer\"),\n",
    "        HumanMessage(content=question),\n",
    "    ]\n",
    "\n",
    "    parser = StrOutputParser()\n",
    "    chain = llm | parser\n",
    "    result = chain.invoke(messages)\n",
    "    return result"
   ]
  },
  {
   "cell_type": "code",
   "execution_count": 6,
   "id": "406b912f-0105-4e8b-b175-7b9c5eecee54",
   "metadata": {},
   "outputs": [],
   "source": [
    "# Function to return the answer.\n",
    "def return_answer(text):\n",
    "    # Regex pattern to match the last float or integer\n",
    "    pattern = r'[-+]?\\d*\\.?\\d+(?:[eE][-+]?\\d+)?\\D*$'\n",
    "    match = re.search(pattern, text)\n",
    "    if match:\n",
    "        # Extract the matched number\n",
    "        last_number = match.group(0)\n",
    "        # Remove any trailing non-numeric characters\n",
    "        pattern2 =  r'\\b\\d+\\.\\d+|\\b\\d+'\n",
    "        match2 = re.search(pattern2, last_number)\n",
    "        if match2:\n",
    "            cleaned_number = (match2.group())\n",
    "            return float(cleaned_number)"
   ]
  },
  {
   "cell_type": "code",
   "execution_count": 7,
   "id": "c7c4454b-d19a-4965-995a-23c2e3309ac9",
   "metadata": {},
   "outputs": [],
   "source": [
    "# Function to prepare the dataset and get answers.\n",
    "pool = ThreadPoolExecutor(max_workers=6)\n",
    "\n",
    "def map_progress(pool, seq, f):\n",
    "    results = []\n",
    "\n",
    "    with tqdm(total=len(seq)) as progress:\n",
    "        futures = []\n",
    "\n",
    "        for el in seq:\n",
    "            future = pool.submit(f, el)\n",
    "            future.add_done_callback(lambda p: progress.update())\n",
    "            futures.append(future)\n",
    "\n",
    "        for future in futures:\n",
    "            result = future.result()\n",
    "            results.append(result)\n",
    "\n",
    "    return results"
   ]
  },
  {
   "cell_type": "code",
   "execution_count": 8,
   "id": "2c4f050c-78ad-4049-8a46-bbd4b71832ca",
   "metadata": {},
   "outputs": [],
   "source": [
    "# Function for processing each row.\n",
    "def process_row(row):\n",
    "    problem_id = row['problem_id']\n",
    "    problem_text = row['problem_text']\n",
    "\n",
    "    llm_reasoning = get_answer(problem_text)\n",
    "\n",
    "    numerical_answer = return_answer(llm_reasoning)\n",
    "\n",
    "    return {\n",
    "        'problem_id': problem_id,\n",
    "        'problem_text': problem_text,\n",
    "        'llm_reasoning': llm_reasoning,\n",
    "        'answer': numerical_answer\n",
    "    }"
   ]
  },
  {
   "cell_type": "code",
   "execution_count": 9,
   "id": "8a8182c2-2d5b-4f7c-ada1-72de079dc19c",
   "metadata": {},
   "outputs": [
    {
     "data": {
      "text/html": [
       "<div>\n",
       "<style scoped>\n",
       "    .dataframe tbody tr th:only-of-type {\n",
       "        vertical-align: middle;\n",
       "    }\n",
       "\n",
       "    .dataframe tbody tr th {\n",
       "        vertical-align: top;\n",
       "    }\n",
       "\n",
       "    .dataframe thead th {\n",
       "        text-align: right;\n",
       "    }\n",
       "</style>\n",
       "<table border=\"1\" class=\"dataframe\">\n",
       "  <thead>\n",
       "    <tr style=\"text-align: right;\">\n",
       "      <th></th>\n",
       "      <th>problem_id</th>\n",
       "      <th>problem_text</th>\n",
       "      <th>answer</th>\n",
       "    </tr>\n",
       "  </thead>\n",
       "  <tbody>\n",
       "    <tr>\n",
       "      <th>0</th>\n",
       "      <td>2374</td>\n",
       "      <td>Find the value of the expression $\\dfrac{17}{5...</td>\n",
       "      <td>1.6</td>\n",
       "    </tr>\n",
       "    <tr>\n",
       "      <th>1</th>\n",
       "      <td>4723</td>\n",
       "      <td>In a company of 30 people, 25 use the social n...</td>\n",
       "      <td>24</td>\n",
       "    </tr>\n",
       "    <tr>\n",
       "      <th>2</th>\n",
       "      <td>7135</td>\n",
       "      <td>The number of road traffic accidents (RTAs) in...</td>\n",
       "      <td>32</td>\n",
       "    </tr>\n",
       "    <tr>\n",
       "      <th>3</th>\n",
       "      <td>5814</td>\n",
       "      <td>Find the value of the expression $\\dfrac{2\\str...</td>\n",
       "      <td>256</td>\n",
       "    </tr>\n",
       "    <tr>\n",
       "      <th>4</th>\n",
       "      <td>9237</td>\n",
       "      <td>A traveler from Moscow wants to visit four cit...</td>\n",
       "      <td>53</td>\n",
       "    </tr>\n",
       "  </tbody>\n",
       "</table>\n",
       "</div>"
      ],
      "text/plain": [
       "   problem_id                                       problem_text answer\n",
       "0        2374  Find the value of the expression $\\dfrac{17}{5...    1.6\n",
       "1        4723  In a company of 30 people, 25 use the social n...     24\n",
       "2        7135  The number of road traffic accidents (RTAs) in...     32\n",
       "3        5814  Find the value of the expression $\\dfrac{2\\str...    256\n",
       "4        9237  A traveler from Moscow wants to visit four cit...     53"
      ]
     },
     "execution_count": 9,
     "metadata": {},
     "output_type": "execute_result"
    }
   ],
   "source": [
    "# Load the train data.\n",
    "df_train = pd.read_csv('data/train.csv')\n",
    "df_train.head()"
   ]
  },
  {
   "cell_type": "code",
   "execution_count": 10,
   "id": "5f71b9ac-4387-4568-8e13-4de9cad335ab",
   "metadata": {},
   "outputs": [
    {
     "data": {
      "text/plain": [
       "{'problem_id': 2374,\n",
       " 'problem_text': 'Find the value of the expression $\\\\dfrac{17}{5} :\\\\dfrac{34}{3} +1.3$.',\n",
       " 'llm_reasoning': 'To solve the expression \\\\(\\\\dfrac{17}{5} : \\\\dfrac{34}{3} + 1.3\\\\), we need to follow the order of operations, which includes handling division and addition appropriately.\\n\\nFirst, let\\'s rewrite the division part of the expression. The division symbol \":\" can be interpreted as a fraction, so we have:\\n\\n\\\\[\\n\\\\dfrac{17}{5} \\\\div \\\\dfrac{34}{3}\\n\\\\]\\n\\nDividing by a fraction is equivalent to multiplying by its reciprocal. Therefore, we can rewrite the division as:\\n\\n\\\\[\\n\\\\dfrac{17}{5} \\\\times \\\\dfrac{3}{34}\\n\\\\]\\n\\nNext, we perform the multiplication of the fractions:\\n\\n\\\\[\\n\\\\dfrac{17 \\\\times 3}{5 \\\\times 34} = \\\\dfrac{51}{170}\\n\\\\]\\n\\nWe can simplify \\\\(\\\\dfrac{51}{170}\\\\) by finding the greatest common divisor (GCD) of 51 and 170. The GCD of 51 and 170 is 17. Therefore, we divide both the numerator and the denominator by 17:\\n\\n\\\\[\\n\\\\dfrac{51 \\\\div 17}{170 \\\\div 17} = \\\\dfrac{3}{10}\\n\\\\]\\n\\nSo, \\\\(\\\\dfrac{17}{5} : \\\\dfrac{34}{3} = \\\\dfrac{3}{10}\\\\).\\n\\nNow, we add 1.3 to \\\\(\\\\dfrac{3}{10}\\\\):\\n\\n\\\\[\\n\\\\dfrac{3}{10} + 1.3\\n\\\\]\\n\\nWe convert 1.3 to a fraction with a common denominator of 10:\\n\\n\\\\[\\n1.3 = \\\\dfrac{13}{10}\\n\\\\]\\n\\nNow, we add the fractions:\\n\\n\\\\[\\n\\\\dfrac{3}{10} + \\\\dfrac{13}{10} = \\\\dfrac{3 + 13}{10} = \\\\dfrac{16}{10} = 1.6\\n\\\\]\\n\\nTherefore, the value of the expression is:\\n\\n\\\\[\\n\\\\boxed{1.6}\\n\\\\]',\n",
       " 'answer': 1.6}"
      ]
     },
     "execution_count": 10,
     "metadata": {},
     "output_type": "execute_result"
    }
   ],
   "source": [
    "# Process row.\n",
    "rows = df_train.head().to_dict(orient='records')\n",
    "process_row(rows[0])"
   ]
  },
  {
   "cell_type": "code",
   "execution_count": 11,
   "id": "2c8da2da-cdd7-483b-9210-80093f819d15",
   "metadata": {},
   "outputs": [
    {
     "name": "stderr",
     "output_type": "stream",
     "text": [
      "100%|████████████████████████████████████████████████████████████████████████████████████████████| 5/5 [00:11<00:00,  2.32s/it]\n"
     ]
    },
    {
     "data": {
      "text/html": [
       "<div>\n",
       "<style scoped>\n",
       "    .dataframe tbody tr th:only-of-type {\n",
       "        vertical-align: middle;\n",
       "    }\n",
       "\n",
       "    .dataframe tbody tr th {\n",
       "        vertical-align: top;\n",
       "    }\n",
       "\n",
       "    .dataframe thead th {\n",
       "        text-align: right;\n",
       "    }\n",
       "</style>\n",
       "<table border=\"1\" class=\"dataframe\">\n",
       "  <thead>\n",
       "    <tr style=\"text-align: right;\">\n",
       "      <th></th>\n",
       "      <th>problem_id</th>\n",
       "      <th>problem_text</th>\n",
       "      <th>llm_reasoning</th>\n",
       "      <th>answer</th>\n",
       "    </tr>\n",
       "  </thead>\n",
       "  <tbody>\n",
       "    <tr>\n",
       "      <th>0</th>\n",
       "      <td>2374</td>\n",
       "      <td>Find the value of the expression $\\dfrac{17}{5...</td>\n",
       "      <td>To solve the expression \\(\\dfrac{17}{5} : \\dfr...</td>\n",
       "      <td>1.6</td>\n",
       "    </tr>\n",
       "    <tr>\n",
       "      <th>1</th>\n",
       "      <td>4723</td>\n",
       "      <td>In a company of 30 people, 25 use the social n...</td>\n",
       "      <td>To solve this problem, we need to use the prin...</td>\n",
       "      <td>24.0</td>\n",
       "    </tr>\n",
       "    <tr>\n",
       "      <th>2</th>\n",
       "      <td>7135</td>\n",
       "      <td>The number of road traffic accidents (RTAs) in...</td>\n",
       "      <td>To determine the percentage decrease in the nu...</td>\n",
       "      <td>32.0</td>\n",
       "    </tr>\n",
       "    <tr>\n",
       "      <th>3</th>\n",
       "      <td>5814</td>\n",
       "      <td>Find the value of the expression $\\dfrac{2\\str...</td>\n",
       "      <td>To solve the expression \\(\\dfrac{2^{-5} \\cdot ...</td>\n",
       "      <td>256.0</td>\n",
       "    </tr>\n",
       "    <tr>\n",
       "      <th>4</th>\n",
       "      <td>9237</td>\n",
       "      <td>A traveler from Moscow wants to visit four cit...</td>\n",
       "      <td>To solve this problem, we need to find a combi...</td>\n",
       "      <td>53.0</td>\n",
       "    </tr>\n",
       "  </tbody>\n",
       "</table>\n",
       "</div>"
      ],
      "text/plain": [
       "   problem_id                                       problem_text  \\\n",
       "0        2374  Find the value of the expression $\\dfrac{17}{5...   \n",
       "1        4723  In a company of 30 people, 25 use the social n...   \n",
       "2        7135  The number of road traffic accidents (RTAs) in...   \n",
       "3        5814  Find the value of the expression $\\dfrac{2\\str...   \n",
       "4        9237  A traveler from Moscow wants to visit four cit...   \n",
       "\n",
       "                                       llm_reasoning  answer  \n",
       "0  To solve the expression \\(\\dfrac{17}{5} : \\dfr...     1.6  \n",
       "1  To solve this problem, we need to use the prin...    24.0  \n",
       "2  To determine the percentage decrease in the nu...    32.0  \n",
       "3  To solve the expression \\(\\dfrac{2^{-5} \\cdot ...   256.0  \n",
       "4  To solve this problem, we need to find a combi...    53.0  "
      ]
     },
     "execution_count": 11,
     "metadata": {},
     "output_type": "execute_result"
    },
    {
     "name": "stderr",
     "output_type": "stream",
     "text": [
      "100%|████████████████████████████████████████████████████████████████████████████████████████| 100/100 [01:20<00:00,  2.99s/it]"
     ]
    }
   ],
   "source": [
    "# Return results df_train head.\n",
    "results = map_progress(pool, rows, process_row)\n",
    "df_results = pd.DataFrame(results)\n",
    "df_results"
   ]
  },
  {
   "cell_type": "code",
   "execution_count": 12,
   "id": "e726a1cd-e679-4281-8d5f-dddd32d09c09",
   "metadata": {},
   "outputs": [
    {
     "data": {
      "text/html": [
       "<div>\n",
       "<style scoped>\n",
       "    .dataframe tbody tr th:only-of-type {\n",
       "        vertical-align: middle;\n",
       "    }\n",
       "\n",
       "    .dataframe tbody tr th {\n",
       "        vertical-align: top;\n",
       "    }\n",
       "\n",
       "    .dataframe thead th {\n",
       "        text-align: right;\n",
       "    }\n",
       "</style>\n",
       "<table border=\"1\" class=\"dataframe\">\n",
       "  <thead>\n",
       "    <tr style=\"text-align: right;\">\n",
       "      <th></th>\n",
       "      <th>problem_id</th>\n",
       "      <th>problem_text</th>\n",
       "      <th>answer</th>\n",
       "    </tr>\n",
       "  </thead>\n",
       "  <tbody>\n",
       "    <tr>\n",
       "      <th>0</th>\n",
       "      <td>2374</td>\n",
       "      <td>Find the value of the expression $\\dfrac{17}{5...</td>\n",
       "      <td>1.6</td>\n",
       "    </tr>\n",
       "    <tr>\n",
       "      <th>1</th>\n",
       "      <td>4723</td>\n",
       "      <td>In a company of 30 people, 25 use the social n...</td>\n",
       "      <td>24</td>\n",
       "    </tr>\n",
       "    <tr>\n",
       "      <th>2</th>\n",
       "      <td>7135</td>\n",
       "      <td>The number of road traffic accidents (RTAs) in...</td>\n",
       "      <td>32</td>\n",
       "    </tr>\n",
       "    <tr>\n",
       "      <th>3</th>\n",
       "      <td>5814</td>\n",
       "      <td>Find the value of the expression $\\dfrac{2\\str...</td>\n",
       "      <td>256</td>\n",
       "    </tr>\n",
       "    <tr>\n",
       "      <th>4</th>\n",
       "      <td>9237</td>\n",
       "      <td>A traveler from Moscow wants to visit four cit...</td>\n",
       "      <td>53</td>\n",
       "    </tr>\n",
       "  </tbody>\n",
       "</table>\n",
       "</div>"
      ],
      "text/plain": [
       "   problem_id                                       problem_text answer\n",
       "0        2374  Find the value of the expression $\\dfrac{17}{5...    1.6\n",
       "1        4723  In a company of 30 people, 25 use the social n...     24\n",
       "2        7135  The number of road traffic accidents (RTAs) in...     32\n",
       "3        5814  Find the value of the expression $\\dfrac{2\\str...    256\n",
       "4        9237  A traveler from Moscow wants to visit four cit...     53"
      ]
     },
     "execution_count": 12,
     "metadata": {},
     "output_type": "execute_result"
    }
   ],
   "source": [
    "# Show df_train head.\n",
    "df_train.head()"
   ]
  },
  {
   "cell_type": "code",
   "execution_count": 13,
   "id": "c6c6243d-02a4-455a-bbc5-8da619706531",
   "metadata": {},
   "outputs": [
    {
     "data": {
      "text/plain": [
       "1.0"
      ]
     },
     "execution_count": 13,
     "metadata": {},
     "output_type": "execute_result"
    }
   ],
   "source": [
    "# Score df_train head results.\n",
    "score(df_train.head(), df_results, 'problem_id')"
   ]
  },
  {
   "cell_type": "code",
   "execution_count": 14,
   "id": "812c33a9-c988-4a86-bf5f-28fc3531d7c9",
   "metadata": {},
   "outputs": [],
   "source": [
    "# Put all together in a function.\n",
    "def prepare_prompts_and_get_answers(df):\n",
    "    rows = df.to_dict(orient='records')\n",
    "    results = map_progress(pool, rows, process_row)\n",
    "    return pd.DataFrame(results)"
   ]
  },
  {
   "cell_type": "code",
   "execution_count": 15,
   "id": "b640a2d4-9b5e-4e01-a5c5-ad855e6596f1",
   "metadata": {},
   "outputs": [
    {
     "name": "stderr",
     "output_type": "stream",
     "text": [
      "100%|████████████████████████████████████████████████████████████████████████████████████████| 100/100 [01:36<00:00,  1.04it/s]\n"
     ]
    },
    {
     "data": {
      "text/html": [
       "<div>\n",
       "<style scoped>\n",
       "    .dataframe tbody tr th:only-of-type {\n",
       "        vertical-align: middle;\n",
       "    }\n",
       "\n",
       "    .dataframe tbody tr th {\n",
       "        vertical-align: top;\n",
       "    }\n",
       "\n",
       "    .dataframe thead th {\n",
       "        text-align: right;\n",
       "    }\n",
       "</style>\n",
       "<table border=\"1\" class=\"dataframe\">\n",
       "  <thead>\n",
       "    <tr style=\"text-align: right;\">\n",
       "      <th></th>\n",
       "      <th>problem_id</th>\n",
       "      <th>problem_text</th>\n",
       "      <th>llm_reasoning</th>\n",
       "      <th>answer</th>\n",
       "    </tr>\n",
       "  </thead>\n",
       "  <tbody>\n",
       "    <tr>\n",
       "      <th>0</th>\n",
       "      <td>2374</td>\n",
       "      <td>Find the value of the expression $\\dfrac{17}{5...</td>\n",
       "      <td>To solve the expression \\(\\dfrac{17}{5} : \\dfr...</td>\n",
       "      <td>1.6</td>\n",
       "    </tr>\n",
       "    <tr>\n",
       "      <th>1</th>\n",
       "      <td>4723</td>\n",
       "      <td>In a company of 30 people, 25 use the social n...</td>\n",
       "      <td>To solve this problem, we need to use the prin...</td>\n",
       "      <td>24.0</td>\n",
       "    </tr>\n",
       "    <tr>\n",
       "      <th>2</th>\n",
       "      <td>7135</td>\n",
       "      <td>The number of road traffic accidents (RTAs) in...</td>\n",
       "      <td>To determine the percentage decrease in the nu...</td>\n",
       "      <td>32.0</td>\n",
       "    </tr>\n",
       "    <tr>\n",
       "      <th>3</th>\n",
       "      <td>5814</td>\n",
       "      <td>Find the value of the expression $\\dfrac{2\\str...</td>\n",
       "      <td>To find the value of the expression \\(\\dfrac{2...</td>\n",
       "      <td>256.0</td>\n",
       "    </tr>\n",
       "    <tr>\n",
       "      <th>4</th>\n",
       "      <td>9237</td>\n",
       "      <td>A traveler from Moscow wants to visit four cit...</td>\n",
       "      <td>To solve this problem, we need to find a combi...</td>\n",
       "      <td>53.0</td>\n",
       "    </tr>\n",
       "  </tbody>\n",
       "</table>\n",
       "</div>"
      ],
      "text/plain": [
       "   problem_id                                       problem_text  \\\n",
       "0        2374  Find the value of the expression $\\dfrac{17}{5...   \n",
       "1        4723  In a company of 30 people, 25 use the social n...   \n",
       "2        7135  The number of road traffic accidents (RTAs) in...   \n",
       "3        5814  Find the value of the expression $\\dfrac{2\\str...   \n",
       "4        9237  A traveler from Moscow wants to visit four cit...   \n",
       "\n",
       "                                       llm_reasoning  answer  \n",
       "0  To solve the expression \\(\\dfrac{17}{5} : \\dfr...     1.6  \n",
       "1  To solve this problem, we need to use the prin...    24.0  \n",
       "2  To determine the percentage decrease in the nu...    32.0  \n",
       "3  To find the value of the expression \\(\\dfrac{2...   256.0  \n",
       "4  To solve this problem, we need to find a combi...    53.0  "
      ]
     },
     "execution_count": 15,
     "metadata": {},
     "output_type": "execute_result"
    },
    {
     "name": "stderr",
     "output_type": "stream",
     "text": [
      " 95%|████████████████████████████████████████████████████████████████████████████████████▌    | 95/100 [01:08<00:05,  1.02s/it]"
     ]
    }
   ],
   "source": [
    "# Return the results head.\n",
    "df_train_results = prepare_prompts_and_get_answers(df_train)\n",
    "df_train_results.head()"
   ]
  },
  {
   "cell_type": "code",
   "execution_count": 16,
   "id": "7602f9c3-2109-498d-bd78-68afc0f0001f",
   "metadata": {},
   "outputs": [
    {
     "data": {
      "text/plain": [
       "0.7"
      ]
     },
     "execution_count": 16,
     "metadata": {},
     "output_type": "execute_result"
    }
   ],
   "source": [
    "# Get the total score.\n",
    "score(df_train, df_train_results, 'problem_id')"
   ]
  },
  {
   "cell_type": "code",
   "execution_count": 17,
   "id": "d5b1414d-b1f1-4667-9fae-4278373dd601",
   "metadata": {},
   "outputs": [
    {
     "name": "stderr",
     "output_type": "stream",
     "text": [
      "100%|████████████████████████████████████████████████████████████████████████████████████████| 100/100 [01:20<00:00,  1.24it/s]\n"
     ]
    }
   ],
   "source": [
    "# Prepare the test submission.\n",
    "df_test = pd.read_csv('data/test.csv')\n",
    "\n",
    "df_test_results = prepare_prompts_and_get_answers(df_test)\n",
    "\n",
    "submission = df_test_results[['problem_id', 'answer']]\n",
    "submission.to_csv('starter_notebook_submission_gpt_4o.csv', index=False)"
   ]
  },
  {
   "cell_type": "code",
   "execution_count": 18,
   "id": "d8c022d0-c61b-481f-8ca3-26fd10f48903",
   "metadata": {},
   "outputs": [],
   "source": [
    "train_result = df_train_results[['problem_id', 'answer']]\n",
    "train_result.to_csv('train_result_gpt_4o.csv', index=False)"
   ]
  },
  {
   "cell_type": "code",
   "execution_count": null,
   "id": "39cb7532-679d-4e90-825f-51ef36a930cc",
   "metadata": {},
   "outputs": [],
   "source": []
  }
 ],
 "metadata": {
  "kernelspec": {
   "display_name": "Python 3 (ipykernel)",
   "language": "python",
   "name": "python3"
  },
  "language_info": {
   "codemirror_mode": {
    "name": "ipython",
    "version": 3
   },
   "file_extension": ".py",
   "mimetype": "text/x-python",
   "name": "python",
   "nbconvert_exporter": "python",
   "pygments_lexer": "ipython3",
   "version": "3.10.14"
  }
 },
 "nbformat": 4,
 "nbformat_minor": 5
}
